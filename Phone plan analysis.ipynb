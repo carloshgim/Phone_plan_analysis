{
 "cells": [
  {
   "attachments": {},
   "cell_type": "markdown",
   "metadata": {},
   "source": [
    "# Análisis de las tarifas de prepago Surf y Ultimate de la empresa Megaline por *Carlos Horta* (carlosgim@gmail.com)"
   ]
  },
  {
   "attachments": {},
   "cell_type": "markdown",
   "metadata": {},
   "source": [
    "---"
   ]
  },
  {
   "attachments": {},
   "cell_type": "markdown",
   "metadata": {},
   "source": [
    "## Introducción\n",
    "\n",
    "Megaline es un operador de telecomunicaciones que ofrece dos paquetes de prepago: **Surf** y **Ultimate**.\n",
    "\n",
    "El objetivo general de este proyecto es apoyar al departamento comercial en determinar qué plan genera más ingresos, con el fin de ajustar el presupuesto de publicidad.\n",
    "\n",
    "### Objetivos\n",
    "\n",
    "Este proyecto tiene los siguientes objetivos específicos:\n",
    "\n",
    "- Describir el comportamiento de los clientes en términos de consumo de minutos, SMS y volumen de datos para cada uno de los dos planes (Surf y Ultimate), utilizando medidas estadísticas.\n",
    "- Probar la hipótesis de que el ingreso promedio de los usuarios de las tarifas Surf y Ultimate difiere.\n",
    "- Probar la hipótesis de que el ingreso promedio de los usuarios en el área de New York-Newark-Jersey City es diferente al de los usuarios de otras regiones.\n",
    "\n",
    "### Conjuntos de datos\n",
    "\n",
    "Para llevar a cabo este proyecto, se utilizará una muestra de 500 clientes de Megaline a partir de cinco bases de datos con datos del año 2018. Estas bases de datos contienen información sobre usuarios, llamadas, SMS, sesiones web y detalles de las tarifas.\n"
   ]
  },
  {
   "attachments": {},
   "cell_type": "markdown",
   "metadata": {},
   "source": [
    "---\n"
   ]
  },
  {
   "attachments": {},
   "cell_type": "markdown",
   "metadata": {},
   "source": [
    "### **Descripción de los paquetes Surf y Ultimate**\n",
    "\n",
    "Megaline ofrece dos paquetes de prepago: Surf y Ultimate. A continuación se describe cada uno de ellos:\n",
    "\n",
    "#### Surf\n",
    "\n",
    "- Pago mensual: $20.\n",
    "- Incluye:\n",
    "   - 500 minutos al mes.\n",
    "   - 50 SMS.\n",
    "   - 15 GB de datos.\n",
    "- Excedentes:\n",
    "   - 1 minuto adicional: $0.03.\n",
    "   - 1 SMS adicional: $0.03.\n",
    "   - 1 GB de datos adicional: $10.\n",
    "\n",
    "#### Ultimate\n",
    "\n",
    "- Pago mensual: $70.\n",
    "- Incluye:\n",
    "   - 3000 minutos al mes.\n",
    "   - 1000 SMS.\n",
    "   - 30 GB de datos.\n",
    "- Excedentes:\n",
    "   - 1 minuto adicional: $0.03.\n",
    "   - 1 SMS adicional: $0.03.\n",
    "   - 1 GB de datos adicional: $10.\n",
    "\n",
    "***Nota sobre las tarifas:*** \n",
    "\n",
    "- La duración de cada llamada individual se redondea hacia el minuto superior, sin importar la duración real de la llamada.\n",
    "- En el caso del tráfico web, las sesiones individuales no se redondean, pero el total de datos utilizado en el mes sí se redondea.\n"
   ]
  },
  {
   "attachments": {},
   "cell_type": "markdown",
   "metadata": {},
   "source": [
    "---"
   ]
  },
  {
   "attachments": {},
   "cell_type": "markdown",
   "metadata": {},
   "source": [
    "### **Exploración de los datos**"
   ]
  },
  {
   "attachments": {},
   "cell_type": "markdown",
   "metadata": {},
   "source": [
    "A continuación, se cargarán las librerías **pandas**, **matplotlib**, **missingno**, **numpy**, **seaborn** y **numpy** que se utilizarán para este proyecto de Python. "
   ]
  },
  {
   "cell_type": "code",
   "execution_count": 1,
   "metadata": {},
   "outputs": [],
   "source": [
    "# Estas son las librerías a utilizar durante el proyecto\n",
    "\n",
    "import pandas as pd\n",
    "\n",
    "import matplotlib.pyplot as plt\n",
    "\n",
    "import numpy as np\n",
    "\n",
    "import seaborn as sns\n",
    "\n",
    "from math import factorial\n",
    "\n",
    "from scipy import stats as st\n",
    "\n",
    "from functools import reduce\n",
    "\n",
    "import math\n",
    "\n",
    "import statistics"
   ]
  },
  {
   "attachments": {},
   "cell_type": "markdown",
   "metadata": {},
   "source": [
    "Así mismo, los archivos csv con las bases de datos se cargarán de dos maneras diferentes para asegurar su funcionamiento en varios sistemas operativos y plataformas."
   ]
  },
  {
   "cell_type": "code",
   "execution_count": 2,
   "metadata": {},
   "outputs": [],
   "source": [
    "# Carga los datos\n",
    "try:\n",
    "    calls = pd.read_csv(\"megaline_calls.csv\")\n",
    "except:\n",
    "    calls = pd.read_csv(\"/datasets/megaline_calls.csv\")\n",
    "    \n",
    "    \n",
    "try:\n",
    "    internet = pd.read_csv(\"megaline_internet.csv\")\n",
    "except:\n",
    "    internet = pd.read_csv(\"/datasets/megaline_internet.csv\")\n",
    "\n",
    "try:\n",
    "    messages = pd.read_csv(\"megaline_messages.csv\")\n",
    "except:\n",
    "    messages = pd.read_csv(\"/datasets/megaline_messages.csv\")\n",
    "    \n",
    "try:\n",
    "    plans = pd.read_csv(\"megaline_plans.csv\")\n",
    "except:\n",
    "    plans = pd.read_csv(\"/datasets/megaline_plans.csv\")\n",
    "    \n",
    "try:\n",
    "    users = pd.read_csv(\"megaline_users.csv\")\n",
    "except:\n",
    "    users = pd.read_csv(\"/datasets/megaline_users.csv\")"
   ]
  },
  {
   "attachments": {},
   "cell_type": "markdown",
   "metadata": {},
   "source": [
    "Una vez cargadas las librerías y los datasets es necesario analizar cada una de las 5 tablas de este proyecto."
   ]
  },
  {
   "attachments": {},
   "cell_type": "markdown",
   "metadata": {},
   "source": [
    "#### Dataset **'users'**"
   ]
  },
  {
   "cell_type": "code",
   "execution_count": 3,
   "metadata": {},
   "outputs": [
    {
     "name": "stdout",
     "output_type": "stream",
     "text": [
      "<class 'pandas.core.frame.DataFrame'>\n",
      "RangeIndex: 500 entries, 0 to 499\n",
      "Data columns (total 8 columns):\n",
      " #   Column      Non-Null Count  Dtype \n",
      "---  ------      --------------  ----- \n",
      " 0   user_id     500 non-null    int64 \n",
      " 1   first_name  500 non-null    object\n",
      " 2   last_name   500 non-null    object\n",
      " 3   age         500 non-null    int64 \n",
      " 4   city        500 non-null    object\n",
      " 5   reg_date    500 non-null    object\n",
      " 6   plan        500 non-null    object\n",
      " 7   churn_date  34 non-null     object\n",
      "dtypes: int64(2), object(6)\n",
      "memory usage: 31.4+ KB\n",
      "   user_id first_name  last_name  age                                   city  \\\n",
      "0     1000   Anamaria      Bauer   45  Atlanta-Sandy Springs-Roswell, GA MSA   \n",
      "1     1001     Mickey  Wilkerson   28        Seattle-Tacoma-Bellevue, WA MSA   \n",
      "2     1002     Carlee    Hoffman   36   Las Vegas-Henderson-Paradise, NV MSA   \n",
      "3     1003   Reynaldo    Jenkins   52                          Tulsa, OK MSA   \n",
      "4     1004    Leonila   Thompson   40        Seattle-Tacoma-Bellevue, WA MSA   \n",
      "\n",
      "     reg_date      plan churn_date  \n",
      "0  2018-12-24  ultimate        NaN  \n",
      "1  2018-08-13      surf        NaN  \n",
      "2  2018-10-21      surf        NaN  \n",
      "3  2018-01-28      surf        NaN  \n",
      "4  2018-05-23      surf        NaN  \n"
     ]
    }
   ],
   "source": [
    "# El primer dataset a analizar es el de usuarios\n",
    "\n",
    "users.info()\n",
    "\n",
    "print(users.head(5))"
   ]
  },
  {
   "attachments": {},
   "cell_type": "markdown",
   "metadata": {},
   "source": [
    "La tabla **users** se compone de 8 columnas: el identificador único de cliente, el nombre y el apellido, la edad en años, la fecha de suscripción, la fecha en que se dejó de usar el servicio (según sea el caso), la ciudad de residencia y la tarifa contratada (ya sea Surf o Ultimate).\n",
    "\n",
    "Decisiones sobre la tabla **users**: \n",
    "- La columna 'city' se transformará en dos columnas ('metropolitan_area' y 'state').\n",
    "- Se eliminarán las columnas 'first_name, 'last_name', 'age', 'city', 'churn_date' y 'state' debido a que no son de interés para el objetivo del proyecto. "
   ]
  },
  {
   "cell_type": "code",
   "execution_count": 4,
   "metadata": {},
   "outputs": [
    {
     "name": "stdout",
     "output_type": "stream",
     "text": [
      "   user_id    reg_date      plan              metropolitan_area\n",
      "0     1000  2018-12-24  ultimate  Atlanta-Sandy Springs-Roswell\n",
      "1     1001  2018-08-13      surf        Seattle-Tacoma-Bellevue\n",
      "2     1002  2018-10-21      surf   Las Vegas-Henderson-Paradise\n",
      "3     1003  2018-01-28      surf                          Tulsa\n",
      "4     1004  2018-05-23      surf        Seattle-Tacoma-Bellevue\n"
     ]
    }
   ],
   "source": [
    "users[['metropolitan_area', 'state']] = users.city.str.split(\",\",expand=True)\n",
    "users = users.drop(columns=['first_name', 'last_name','age', 'churn_date', 'state', 'city'])\n",
    "print(users.head(5))"
   ]
  },
  {
   "attachments": {},
   "cell_type": "markdown",
   "metadata": {},
   "source": [
    "#### Dataset **'calls'**"
   ]
  },
  {
   "cell_type": "code",
   "execution_count": 5,
   "metadata": {},
   "outputs": [
    {
     "name": "stdout",
     "output_type": "stream",
     "text": [
      "<class 'pandas.core.frame.DataFrame'>\n",
      "RangeIndex: 137735 entries, 0 to 137734\n",
      "Data columns (total 4 columns):\n",
      " #   Column     Non-Null Count   Dtype  \n",
      "---  ------     --------------   -----  \n",
      " 0   id         137735 non-null  object \n",
      " 1   user_id    137735 non-null  int64  \n",
      " 2   call_date  137735 non-null  object \n",
      " 3   duration   137735 non-null  float64\n",
      "dtypes: float64(1), int64(1), object(2)\n",
      "memory usage: 4.2+ MB\n",
      "         id  user_id   call_date  duration\n",
      "0   1000_93     1000  2018-12-27      8.52\n",
      "1  1000_145     1000  2018-12-27     13.66\n",
      "2  1000_247     1000  2018-12-27     14.48\n",
      "3  1000_309     1000  2018-12-28      5.76\n",
      "4  1000_380     1000  2018-12-30      4.22\n"
     ]
    }
   ],
   "source": [
    "# El segundo dataset a analizar es el de llamadas\n",
    "\n",
    "calls.info()\n",
    "\n",
    "print(calls.head(5))"
   ]
  },
  {
   "attachments": {},
   "cell_type": "markdown",
   "metadata": {},
   "source": [
    "La tabla **calls** se compone de 4 columnas: el identificador único de llamada, la fecha de la llamada, la duración en minutos de la llamada y el identificador único del usuario que realiza la llamada.\n",
    "\n",
    "Decisiones sobre la tabla **calls**: \n",
    "- Se creará la columna duration_rounded para redondear al minuto siguiente la duración de la llamada (por ejemplo, redondear de 8.52 a 9 y de 13.66 a 14).\n",
    "- Posteriormente, esta nueva columna se convertirá a una de tipo de valores enteros sin decimales.\n",
    "- Se eliminarán las filas cuya duración de llamada es 0, esto bajo el supuesto que no fueron completadas y no costaron dinero al usuario.\n",
    "\n"
   ]
  },
  {
   "cell_type": "code",
   "execution_count": 6,
   "metadata": {},
   "outputs": [
    {
     "name": "stdout",
     "output_type": "stream",
     "text": [
      "<class 'pandas.core.frame.DataFrame'>\n",
      "Int64Index: 110901 entries, 0 to 137734\n",
      "Data columns (total 5 columns):\n",
      " #   Column            Non-Null Count   Dtype  \n",
      "---  ------            --------------   -----  \n",
      " 0   id                110901 non-null  object \n",
      " 1   user_id           110901 non-null  int64  \n",
      " 2   call_date         110901 non-null  object \n",
      " 3   duration          110901 non-null  float64\n",
      " 4   duration_rounded  110901 non-null  int32  \n",
      "dtypes: float64(1), int32(1), int64(1), object(2)\n",
      "memory usage: 4.7+ MB\n"
     ]
    }
   ],
   "source": [
    "calls['duration_rounded'] = calls['duration'].apply(np.ceil)\n",
    "calls = calls.astype({'duration_rounded' : 'int'})\n",
    "calls_cleaned = calls[calls['duration_rounded'] > 0]\n",
    "calls_cleaned.info()"
   ]
  },
  {
   "attachments": {},
   "cell_type": "markdown",
   "metadata": {},
   "source": [
    "Hasta este momento, el dataset de llamadas pasó de tener 137,735 registros a 110,901; esto significa una diferencia de 26,834 llamadas con 0 minutos de duración que se eliminaron.\n",
    "\n",
    "Siguientes decisiones sobre el dataframe de llamadas:\n",
    " - Se realizará la agrupación por user_id para identificar el número de llamadas realizadas y minutos utilizados en el mes.\n",
    " - El nuevo dataframe se compondrá del id de usuario, la suma de cada llamada realizada (primero se redondeó a su entero superior cada llamada) y el número de llamadas realizadas."
   ]
  },
  {
   "cell_type": "code",
   "execution_count": 7,
   "metadata": {},
   "outputs": [
    {
     "data": {
      "text/html": [
       "<div>\n",
       "<style scoped>\n",
       "    .dataframe tbody tr th:only-of-type {\n",
       "        vertical-align: middle;\n",
       "    }\n",
       "\n",
       "    .dataframe tbody tr th {\n",
       "        vertical-align: top;\n",
       "    }\n",
       "\n",
       "    .dataframe thead th {\n",
       "        text-align: right;\n",
       "    }\n",
       "</style>\n",
       "<table border=\"1\" class=\"dataframe\">\n",
       "  <thead>\n",
       "    <tr style=\"text-align: right;\">\n",
       "      <th></th>\n",
       "      <th>user_id</th>\n",
       "      <th>duration_rounded</th>\n",
       "      <th>calls</th>\n",
       "    </tr>\n",
       "  </thead>\n",
       "  <tbody>\n",
       "    <tr>\n",
       "      <th>0</th>\n",
       "      <td>1000</td>\n",
       "      <td>124</td>\n",
       "      <td>16</td>\n",
       "    </tr>\n",
       "    <tr>\n",
       "      <th>1</th>\n",
       "      <td>1001</td>\n",
       "      <td>1728</td>\n",
       "      <td>202</td>\n",
       "    </tr>\n",
       "    <tr>\n",
       "      <th>2</th>\n",
       "      <td>1002</td>\n",
       "      <td>829</td>\n",
       "      <td>94</td>\n",
       "    </tr>\n",
       "    <tr>\n",
       "      <th>3</th>\n",
       "      <td>1003</td>\n",
       "      <td>1104</td>\n",
       "      <td>118</td>\n",
       "    </tr>\n",
       "    <tr>\n",
       "      <th>4</th>\n",
       "      <td>1004</td>\n",
       "      <td>2772</td>\n",
       "      <td>306</td>\n",
       "    </tr>\n",
       "  </tbody>\n",
       "</table>\n",
       "</div>"
      ],
      "text/plain": [
       "   user_id  duration_rounded  calls\n",
       "0     1000               124     16\n",
       "1     1001              1728    202\n",
       "2     1002               829     94\n",
       "3     1003              1104    118\n",
       "4     1004              2772    306"
      ]
     },
     "execution_count": 7,
     "metadata": {},
     "output_type": "execute_result"
    }
   ],
   "source": [
    "calls_by_user = calls_cleaned.groupby('user_id', as_index=False).agg({'duration_rounded' : 'sum', 'call_date' : 'count'})\n",
    "calls_by_user.columns = ['user_id', 'duration_rounded', 'calls']\n",
    "calls_by_user.head(5)"
   ]
  },
  {
   "attachments": {},
   "cell_type": "markdown",
   "metadata": {},
   "source": [
    "Por último para este dataset de llamadas, se crearán dos columnas adicionales: promedio mensual de minutos consumidos y promedio mensual del número de llamadas realizadas."
   ]
  },
  {
   "cell_type": "code",
   "execution_count": 8,
   "metadata": {},
   "outputs": [
    {
     "data": {
      "text/html": [
       "<div>\n",
       "<style scoped>\n",
       "    .dataframe tbody tr th:only-of-type {\n",
       "        vertical-align: middle;\n",
       "    }\n",
       "\n",
       "    .dataframe tbody tr th {\n",
       "        vertical-align: top;\n",
       "    }\n",
       "\n",
       "    .dataframe thead th {\n",
       "        text-align: right;\n",
       "    }\n",
       "</style>\n",
       "<table border=\"1\" class=\"dataframe\">\n",
       "  <thead>\n",
       "    <tr style=\"text-align: right;\">\n",
       "      <th></th>\n",
       "      <th>user_id</th>\n",
       "      <th>duration_rounded</th>\n",
       "      <th>calls</th>\n",
       "      <th>avg_duration_rounded_month</th>\n",
       "      <th>avg_calls_month</th>\n",
       "    </tr>\n",
       "  </thead>\n",
       "  <tbody>\n",
       "    <tr>\n",
       "      <th>0</th>\n",
       "      <td>1000</td>\n",
       "      <td>124</td>\n",
       "      <td>16</td>\n",
       "      <td>10.333333</td>\n",
       "      <td>1.333333</td>\n",
       "    </tr>\n",
       "    <tr>\n",
       "      <th>1</th>\n",
       "      <td>1001</td>\n",
       "      <td>1728</td>\n",
       "      <td>202</td>\n",
       "      <td>144.000000</td>\n",
       "      <td>16.833333</td>\n",
       "    </tr>\n",
       "    <tr>\n",
       "      <th>2</th>\n",
       "      <td>1002</td>\n",
       "      <td>829</td>\n",
       "      <td>94</td>\n",
       "      <td>69.083333</td>\n",
       "      <td>7.833333</td>\n",
       "    </tr>\n",
       "    <tr>\n",
       "      <th>3</th>\n",
       "      <td>1003</td>\n",
       "      <td>1104</td>\n",
       "      <td>118</td>\n",
       "      <td>92.000000</td>\n",
       "      <td>9.833333</td>\n",
       "    </tr>\n",
       "    <tr>\n",
       "      <th>4</th>\n",
       "      <td>1004</td>\n",
       "      <td>2772</td>\n",
       "      <td>306</td>\n",
       "      <td>231.000000</td>\n",
       "      <td>25.500000</td>\n",
       "    </tr>\n",
       "  </tbody>\n",
       "</table>\n",
       "</div>"
      ],
      "text/plain": [
       "   user_id  duration_rounded  calls  avg_duration_rounded_month  \\\n",
       "0     1000               124     16                   10.333333   \n",
       "1     1001              1728    202                  144.000000   \n",
       "2     1002               829     94                   69.083333   \n",
       "3     1003              1104    118                   92.000000   \n",
       "4     1004              2772    306                  231.000000   \n",
       "\n",
       "   avg_calls_month  \n",
       "0         1.333333  \n",
       "1        16.833333  \n",
       "2         7.833333  \n",
       "3         9.833333  \n",
       "4        25.500000  "
      ]
     },
     "execution_count": 8,
     "metadata": {},
     "output_type": "execute_result"
    }
   ],
   "source": [
    "calls_by_user['avg_duration_rounded_month'] = calls_by_user['duration_rounded'] / 12\n",
    "calls_by_user['avg_calls_month'] = calls_by_user['calls'] / 12\n",
    "calls_by_user.head(5)"
   ]
  },
  {
   "attachments": {},
   "cell_type": "markdown",
   "metadata": {},
   "source": [
    "#### Dataset **'messages'**"
   ]
  },
  {
   "cell_type": "code",
   "execution_count": 9,
   "metadata": {},
   "outputs": [
    {
     "name": "stdout",
     "output_type": "stream",
     "text": [
      "<class 'pandas.core.frame.DataFrame'>\n",
      "RangeIndex: 76051 entries, 0 to 76050\n",
      "Data columns (total 3 columns):\n",
      " #   Column        Non-Null Count  Dtype \n",
      "---  ------        --------------  ----- \n",
      " 0   id            76051 non-null  object\n",
      " 1   user_id       76051 non-null  int64 \n",
      " 2   message_date  76051 non-null  object\n",
      "dtypes: int64(1), object(2)\n",
      "memory usage: 1.7+ MB\n",
      "         id  user_id message_date\n",
      "0  1000_125     1000   2018-12-27\n",
      "1  1000_160     1000   2018-12-31\n",
      "2  1000_223     1000   2018-12-31\n",
      "3  1000_251     1000   2018-12-27\n",
      "4  1000_255     1000   2018-12-26\n"
     ]
    }
   ],
   "source": [
    "# El tercer dataset a analizar es el de mensajes\n",
    "\n",
    "messages.info()\n",
    "\n",
    "print(messages.head(5))"
   ]
  },
  {
   "attachments": {},
   "cell_type": "markdown",
   "metadata": {},
   "source": [
    "La tabla **messages** se compone de 3 columnas: el identificador único del mensaje, el identificador único del usuario que manda el mensaje y la fecha del mensaje.\n",
    "\n",
    "Decisiones sobre la tabla **messages**: \n",
    " - Se realizará la agrupación por user_id para identificar el número de mensajes enviados por usuario, posteriormente, se creará una nueva columna con el promedio por mes. \n",
    " - El nuevo dataframe se compondrá del id de usuario, la suma de cada llamada realizada (primero se redondeó a su entero superior cada llamada) y el número de llamadas realizadas.\n",
    " - Por último, para este dataset de mensajes, se creará una columna adicional que refiere al promedio mensual de mensajes realizados."
   ]
  },
  {
   "cell_type": "code",
   "execution_count": 10,
   "metadata": {},
   "outputs": [
    {
     "data": {
      "text/html": [
       "<div>\n",
       "<style scoped>\n",
       "    .dataframe tbody tr th:only-of-type {\n",
       "        vertical-align: middle;\n",
       "    }\n",
       "\n",
       "    .dataframe tbody tr th {\n",
       "        vertical-align: top;\n",
       "    }\n",
       "\n",
       "    .dataframe thead th {\n",
       "        text-align: right;\n",
       "    }\n",
       "</style>\n",
       "<table border=\"1\" class=\"dataframe\">\n",
       "  <thead>\n",
       "    <tr style=\"text-align: right;\">\n",
       "      <th></th>\n",
       "      <th>user_id</th>\n",
       "      <th>messages</th>\n",
       "      <th>avg_messages_month</th>\n",
       "    </tr>\n",
       "  </thead>\n",
       "  <tbody>\n",
       "    <tr>\n",
       "      <th>0</th>\n",
       "      <td>1000</td>\n",
       "      <td>11</td>\n",
       "      <td>0.916667</td>\n",
       "    </tr>\n",
       "    <tr>\n",
       "      <th>1</th>\n",
       "      <td>1001</td>\n",
       "      <td>207</td>\n",
       "      <td>17.250000</td>\n",
       "    </tr>\n",
       "    <tr>\n",
       "      <th>2</th>\n",
       "      <td>1002</td>\n",
       "      <td>88</td>\n",
       "      <td>7.333333</td>\n",
       "    </tr>\n",
       "    <tr>\n",
       "      <th>3</th>\n",
       "      <td>1003</td>\n",
       "      <td>50</td>\n",
       "      <td>4.166667</td>\n",
       "    </tr>\n",
       "    <tr>\n",
       "      <th>4</th>\n",
       "      <td>1004</td>\n",
       "      <td>177</td>\n",
       "      <td>14.750000</td>\n",
       "    </tr>\n",
       "  </tbody>\n",
       "</table>\n",
       "</div>"
      ],
      "text/plain": [
       "   user_id  messages  avg_messages_month\n",
       "0     1000        11            0.916667\n",
       "1     1001       207           17.250000\n",
       "2     1002        88            7.333333\n",
       "3     1003        50            4.166667\n",
       "4     1004       177           14.750000"
      ]
     },
     "execution_count": 10,
     "metadata": {},
     "output_type": "execute_result"
    }
   ],
   "source": [
    "messages_by_user = messages.groupby('user_id', as_index=False).agg({'message_date' : 'count'})\n",
    "messages_by_user.columns = ['user_id', 'messages']\n",
    "messages_by_user['avg_messages_month'] = messages_by_user['messages']/12\n",
    "messages_by_user.head(5)"
   ]
  },
  {
   "attachments": {},
   "cell_type": "markdown",
   "metadata": {},
   "source": [
    "#### Dataset **'internet'**"
   ]
  },
  {
   "cell_type": "code",
   "execution_count": 11,
   "metadata": {},
   "outputs": [
    {
     "name": "stdout",
     "output_type": "stream",
     "text": [
      "<class 'pandas.core.frame.DataFrame'>\n",
      "RangeIndex: 104825 entries, 0 to 104824\n",
      "Data columns (total 4 columns):\n",
      " #   Column        Non-Null Count   Dtype  \n",
      "---  ------        --------------   -----  \n",
      " 0   id            104825 non-null  object \n",
      " 1   user_id       104825 non-null  int64  \n",
      " 2   session_date  104825 non-null  object \n",
      " 3   mb_used       104825 non-null  float64\n",
      "dtypes: float64(1), int64(1), object(2)\n",
      "memory usage: 3.2+ MB\n",
      "         id  user_id session_date  mb_used\n",
      "0   1000_13     1000   2018-12-29    89.86\n",
      "1  1000_204     1000   2018-12-31     0.00\n",
      "2  1000_379     1000   2018-12-28   660.40\n",
      "3  1000_413     1000   2018-12-26   270.99\n",
      "4  1000_442     1000   2018-12-27   880.22\n"
     ]
    }
   ],
   "source": [
    "# El cuarto dataset a analizar es el de internet\n",
    "\n",
    "internet.info()\n",
    "\n",
    "print(internet.head(5))"
   ]
  },
  {
   "attachments": {},
   "cell_type": "markdown",
   "metadata": {},
   "source": [
    "La tabla **internet** se compone de 4 columnas: el identificador único de la sesión, el identificador único del usuario, la fecha de la navegación y los megabytes usados.\n",
    "\n",
    "Decisiones sobre la tabla **internet**: \n",
    "- Se eliminarán las sesiones con cero megabytes. \n",
    "- Se realizará la agrupación por user_id para identificar el número de megabytes utilizados en el mes (no se redondeará cada sesión debido a que Megaline no redondea cada sesión individual)\n",
    "- Una vez agrupado por usuario se creará una columna con el total redondeado hacia arriba. \n",
    "- Por último, se creará una nueva columna que contenga el promedio mensual de datos utilizados por mes por usuario. Importante recordar que Megaline redondea a GB los megabytes consumidos, y que 1024 megabytes equivale a 1 GB."
   ]
  },
  {
   "cell_type": "code",
   "execution_count": 12,
   "metadata": {},
   "outputs": [
    {
     "data": {
      "text/html": [
       "<div>\n",
       "<style scoped>\n",
       "    .dataframe tbody tr th:only-of-type {\n",
       "        vertical-align: middle;\n",
       "    }\n",
       "\n",
       "    .dataframe tbody tr th {\n",
       "        vertical-align: top;\n",
       "    }\n",
       "\n",
       "    .dataframe thead th {\n",
       "        text-align: right;\n",
       "    }\n",
       "</style>\n",
       "<table border=\"1\" class=\"dataframe\">\n",
       "  <thead>\n",
       "    <tr style=\"text-align: right;\">\n",
       "      <th></th>\n",
       "      <th>user_id</th>\n",
       "      <th>total_mb_used</th>\n",
       "      <th>avg_mb_used_month</th>\n",
       "      <th>mb_used_rounded_gb</th>\n",
       "      <th>mb_used_rounded_gb_month</th>\n",
       "    </tr>\n",
       "  </thead>\n",
       "  <tbody>\n",
       "    <tr>\n",
       "      <th>0</th>\n",
       "      <td>1000</td>\n",
       "      <td>1901.47</td>\n",
       "      <td>158.455833</td>\n",
       "      <td>0.154742</td>\n",
       "      <td>1.0</td>\n",
       "    </tr>\n",
       "    <tr>\n",
       "      <th>1</th>\n",
       "      <td>1001</td>\n",
       "      <td>80437.94</td>\n",
       "      <td>6703.161667</td>\n",
       "      <td>6.546056</td>\n",
       "      <td>7.0</td>\n",
       "    </tr>\n",
       "    <tr>\n",
       "      <th>2</th>\n",
       "      <td>1002</td>\n",
       "      <td>40293.33</td>\n",
       "      <td>3357.777500</td>\n",
       "      <td>3.279080</td>\n",
       "      <td>4.0</td>\n",
       "    </tr>\n",
       "    <tr>\n",
       "      <th>3</th>\n",
       "      <td>1003</td>\n",
       "      <td>27044.14</td>\n",
       "      <td>2253.678333</td>\n",
       "      <td>2.200858</td>\n",
       "      <td>3.0</td>\n",
       "    </tr>\n",
       "    <tr>\n",
       "      <th>4</th>\n",
       "      <td>1004</td>\n",
       "      <td>156352.81</td>\n",
       "      <td>13029.400833</td>\n",
       "      <td>12.724024</td>\n",
       "      <td>13.0</td>\n",
       "    </tr>\n",
       "  </tbody>\n",
       "</table>\n",
       "</div>"
      ],
      "text/plain": [
       "   user_id  total_mb_used  avg_mb_used_month  mb_used_rounded_gb  \\\n",
       "0     1000        1901.47         158.455833            0.154742   \n",
       "1     1001       80437.94        6703.161667            6.546056   \n",
       "2     1002       40293.33        3357.777500            3.279080   \n",
       "3     1003       27044.14        2253.678333            2.200858   \n",
       "4     1004      156352.81       13029.400833           12.724024   \n",
       "\n",
       "   mb_used_rounded_gb_month  \n",
       "0                       1.0  \n",
       "1                       7.0  \n",
       "2                       4.0  \n",
       "3                       3.0  \n",
       "4                      13.0  "
      ]
     },
     "execution_count": 12,
     "metadata": {},
     "output_type": "execute_result"
    }
   ],
   "source": [
    "internet_by_user = internet[internet['mb_used'] > 0]\n",
    "internet_by_user = internet.groupby('user_id', as_index=False).agg({'mb_used' : 'sum'})\n",
    "internet_by_user.columns = ['user_id', 'total_mb_used']\n",
    "internet_by_user['avg_mb_used_month'] = internet_by_user['total_mb_used']/12\n",
    "internet_by_user['mb_used_rounded_gb'] = internet_by_user['avg_mb_used_month']/1024\n",
    "internet_by_user['mb_used_rounded_gb_month'] = internet_by_user['mb_used_rounded_gb'].apply(np.ceil)\n",
    "internet_by_user.head(5)"
   ]
  },
  {
   "attachments": {},
   "cell_type": "markdown",
   "metadata": {},
   "source": [
    "En resumen, en la tabla **internet** se eliminaron las sesiones con cero datos de consumo de megabytes (que fueron 13,747), se agrupó por usuario el total de megabytes consumidos y se crearon 3 columnas: el promedio mensual de megabytes consumidos, el promedio mensual de megabytes consumidos convertidos en GB y los megas mensuales redondeados hacia arriba en GB."
   ]
  },
  {
   "attachments": {},
   "cell_type": "markdown",
   "metadata": {},
   "source": [
    "#### Dataset **'plans'**"
   ]
  },
  {
   "attachments": {},
   "cell_type": "markdown",
   "metadata": {},
   "source": [
    "El dataset muestra la información con los datos de ambas tarifas (**surf** y **ultimate**), al ser meramente descriptivo no es necesario realizar algún cambio."
   ]
  },
  {
   "cell_type": "code",
   "execution_count": 13,
   "metadata": {},
   "outputs": [
    {
     "data": {
      "text/html": [
       "<div>\n",
       "<style scoped>\n",
       "    .dataframe tbody tr th:only-of-type {\n",
       "        vertical-align: middle;\n",
       "    }\n",
       "\n",
       "    .dataframe tbody tr th {\n",
       "        vertical-align: top;\n",
       "    }\n",
       "\n",
       "    .dataframe thead th {\n",
       "        text-align: right;\n",
       "    }\n",
       "</style>\n",
       "<table border=\"1\" class=\"dataframe\">\n",
       "  <thead>\n",
       "    <tr style=\"text-align: right;\">\n",
       "      <th></th>\n",
       "      <th>messages_included</th>\n",
       "      <th>mb_per_month_included</th>\n",
       "      <th>minutes_included</th>\n",
       "      <th>usd_monthly_pay</th>\n",
       "      <th>usd_per_gb</th>\n",
       "      <th>usd_per_message</th>\n",
       "      <th>usd_per_minute</th>\n",
       "      <th>plan_name</th>\n",
       "    </tr>\n",
       "  </thead>\n",
       "  <tbody>\n",
       "    <tr>\n",
       "      <th>0</th>\n",
       "      <td>50</td>\n",
       "      <td>15360</td>\n",
       "      <td>500</td>\n",
       "      <td>20</td>\n",
       "      <td>10</td>\n",
       "      <td>0.03</td>\n",
       "      <td>0.03</td>\n",
       "      <td>surf</td>\n",
       "    </tr>\n",
       "    <tr>\n",
       "      <th>1</th>\n",
       "      <td>1000</td>\n",
       "      <td>30720</td>\n",
       "      <td>3000</td>\n",
       "      <td>70</td>\n",
       "      <td>7</td>\n",
       "      <td>0.01</td>\n",
       "      <td>0.01</td>\n",
       "      <td>ultimate</td>\n",
       "    </tr>\n",
       "  </tbody>\n",
       "</table>\n",
       "</div>"
      ],
      "text/plain": [
       "   messages_included  mb_per_month_included  minutes_included  \\\n",
       "0                 50                  15360               500   \n",
       "1               1000                  30720              3000   \n",
       "\n",
       "   usd_monthly_pay  usd_per_gb  usd_per_message  usd_per_minute plan_name  \n",
       "0               20          10             0.03            0.03      surf  \n",
       "1               70           7             0.01            0.01  ultimate  "
      ]
     },
     "execution_count": 13,
     "metadata": {},
     "output_type": "execute_result"
    }
   ],
   "source": [
    "plans"
   ]
  },
  {
   "attachments": {},
   "cell_type": "markdown",
   "metadata": {},
   "source": [
    "----\n"
   ]
  },
  {
   "attachments": {},
   "cell_type": "markdown",
   "metadata": {},
   "source": [
    "### **Análisis de los datos**"
   ]
  },
  {
   "attachments": {},
   "cell_type": "markdown",
   "metadata": {},
   "source": [
    "Como primero paso para el análisis de los datos es necesario unir los cuatro dataset con información de cada cliente en uno solo, es decir, se tomará de base el dataset de usuarios y se agregarán los de llamadas, mensajes e internet para tener un único dataset para su posterior análisis."
   ]
  },
  {
   "cell_type": "code",
   "execution_count": 14,
   "metadata": {},
   "outputs": [
    {
     "name": "stdout",
     "output_type": "stream",
     "text": [
      "<class 'pandas.core.frame.DataFrame'>\n",
      "Int64Index: 500 entries, 0 to 499\n",
      "Data columns (total 14 columns):\n",
      " #   Column                      Non-Null Count  Dtype  \n",
      "---  ------                      --------------  -----  \n",
      " 0   user_id                     500 non-null    int64  \n",
      " 1   reg_date                    500 non-null    object \n",
      " 2   plan                        500 non-null    object \n",
      " 3   metropolitan_area           500 non-null    object \n",
      " 4   duration_rounded            481 non-null    float64\n",
      " 5   calls                       481 non-null    float64\n",
      " 6   avg_duration_rounded_month  481 non-null    float64\n",
      " 7   avg_calls_month             481 non-null    float64\n",
      " 8   messages                    402 non-null    float64\n",
      " 9   avg_messages_month          402 non-null    float64\n",
      " 10  total_mb_used               489 non-null    float64\n",
      " 11  avg_mb_used_month           489 non-null    float64\n",
      " 12  mb_used_rounded_gb          489 non-null    float64\n",
      " 13  mb_used_rounded_gb_month    489 non-null    float64\n",
      "dtypes: float64(10), int64(1), object(3)\n",
      "memory usage: 58.6+ KB\n"
     ]
    }
   ],
   "source": [
    "complete_table_user = users.merge(calls_by_user, on='user_id', how='left').merge(messages_by_user, on='user_id', how='left').merge(internet_by_user, on='user_id', how='left')\n",
    "complete_table_user.info()"
   ]
  },
  {
   "attachments": {},
   "cell_type": "markdown",
   "metadata": {},
   "source": [
    "Una vez unificada las tablas en una sola es posible observar que existen valores perdidos. En los pasos previos se eliminaron las filas con valor cero en la tabla de llamadas y en la de internet, pero no en la de mensajes porque esta únicamente mostraba los mensajes realizados y no los faltantes. También cabe aclarar, que existen usuarios que no hicieron llamadas o no tuvieron sesiones de internet, por lo que no aparecen en las tablas respectivas, de ahí se explica el cero en varias columnas. \n",
    "En consecuencia, se rellenará con el numero 0 los valores faltantes de la nueva tabla 'complete_tables_user'."
   ]
  },
  {
   "cell_type": "code",
   "execution_count": 15,
   "metadata": {},
   "outputs": [
    {
     "name": "stdout",
     "output_type": "stream",
     "text": [
      "<class 'pandas.core.frame.DataFrame'>\n",
      "Int64Index: 500 entries, 0 to 499\n",
      "Data columns (total 14 columns):\n",
      " #   Column                      Non-Null Count  Dtype  \n",
      "---  ------                      --------------  -----  \n",
      " 0   user_id                     500 non-null    int64  \n",
      " 1   reg_date                    500 non-null    object \n",
      " 2   plan                        500 non-null    object \n",
      " 3   metropolitan_area           500 non-null    object \n",
      " 4   duration_rounded            500 non-null    float64\n",
      " 5   calls                       500 non-null    float64\n",
      " 6   avg_duration_rounded_month  500 non-null    float64\n",
      " 7   avg_calls_month             500 non-null    float64\n",
      " 8   messages                    500 non-null    float64\n",
      " 9   avg_messages_month          500 non-null    float64\n",
      " 10  total_mb_used               500 non-null    float64\n",
      " 11  avg_mb_used_month           500 non-null    float64\n",
      " 12  mb_used_rounded_gb          500 non-null    float64\n",
      " 13  mb_used_rounded_gb_month    500 non-null    float64\n",
      "dtypes: float64(10), int64(1), object(3)\n",
      "memory usage: 58.6+ KB\n"
     ]
    }
   ],
   "source": [
    "complete_table_user = complete_table_user.fillna(0)\n",
    "complete_table_user.info()"
   ]
  },
  {
   "cell_type": "code",
   "execution_count": 16,
   "metadata": {},
   "outputs": [
    {
     "data": {
      "text/html": [
       "<div>\n",
       "<style scoped>\n",
       "    .dataframe tbody tr th:only-of-type {\n",
       "        vertical-align: middle;\n",
       "    }\n",
       "\n",
       "    .dataframe tbody tr th {\n",
       "        vertical-align: top;\n",
       "    }\n",
       "\n",
       "    .dataframe thead th {\n",
       "        text-align: right;\n",
       "    }\n",
       "</style>\n",
       "<table border=\"1\" class=\"dataframe\">\n",
       "  <thead>\n",
       "    <tr style=\"text-align: right;\">\n",
       "      <th></th>\n",
       "      <th>user_id</th>\n",
       "      <th>reg_date</th>\n",
       "      <th>plan</th>\n",
       "      <th>metropolitan_area</th>\n",
       "      <th>duration_rounded</th>\n",
       "      <th>calls</th>\n",
       "      <th>avg_duration_rounded_month</th>\n",
       "      <th>avg_calls_month</th>\n",
       "      <th>messages</th>\n",
       "      <th>avg_messages_month</th>\n",
       "      <th>total_mb_used</th>\n",
       "      <th>avg_mb_used_month</th>\n",
       "      <th>mb_used_rounded_gb</th>\n",
       "      <th>mb_used_rounded_gb_month</th>\n",
       "    </tr>\n",
       "  </thead>\n",
       "  <tbody>\n",
       "    <tr>\n",
       "      <th>0</th>\n",
       "      <td>1000</td>\n",
       "      <td>2018-12-24</td>\n",
       "      <td>ultimate</td>\n",
       "      <td>Atlanta-Sandy Springs-Roswell</td>\n",
       "      <td>124.0</td>\n",
       "      <td>16.0</td>\n",
       "      <td>10.333333</td>\n",
       "      <td>1.333333</td>\n",
       "      <td>11.0</td>\n",
       "      <td>0.916667</td>\n",
       "      <td>1901.47</td>\n",
       "      <td>158.455833</td>\n",
       "      <td>0.154742</td>\n",
       "      <td>1.0</td>\n",
       "    </tr>\n",
       "    <tr>\n",
       "      <th>1</th>\n",
       "      <td>1001</td>\n",
       "      <td>2018-08-13</td>\n",
       "      <td>surf</td>\n",
       "      <td>Seattle-Tacoma-Bellevue</td>\n",
       "      <td>1728.0</td>\n",
       "      <td>202.0</td>\n",
       "      <td>144.000000</td>\n",
       "      <td>16.833333</td>\n",
       "      <td>207.0</td>\n",
       "      <td>17.250000</td>\n",
       "      <td>80437.94</td>\n",
       "      <td>6703.161667</td>\n",
       "      <td>6.546056</td>\n",
       "      <td>7.0</td>\n",
       "    </tr>\n",
       "    <tr>\n",
       "      <th>2</th>\n",
       "      <td>1002</td>\n",
       "      <td>2018-10-21</td>\n",
       "      <td>surf</td>\n",
       "      <td>Las Vegas-Henderson-Paradise</td>\n",
       "      <td>829.0</td>\n",
       "      <td>94.0</td>\n",
       "      <td>69.083333</td>\n",
       "      <td>7.833333</td>\n",
       "      <td>88.0</td>\n",
       "      <td>7.333333</td>\n",
       "      <td>40293.33</td>\n",
       "      <td>3357.777500</td>\n",
       "      <td>3.279080</td>\n",
       "      <td>4.0</td>\n",
       "    </tr>\n",
       "    <tr>\n",
       "      <th>3</th>\n",
       "      <td>1003</td>\n",
       "      <td>2018-01-28</td>\n",
       "      <td>surf</td>\n",
       "      <td>Tulsa</td>\n",
       "      <td>1104.0</td>\n",
       "      <td>118.0</td>\n",
       "      <td>92.000000</td>\n",
       "      <td>9.833333</td>\n",
       "      <td>50.0</td>\n",
       "      <td>4.166667</td>\n",
       "      <td>27044.14</td>\n",
       "      <td>2253.678333</td>\n",
       "      <td>2.200858</td>\n",
       "      <td>3.0</td>\n",
       "    </tr>\n",
       "    <tr>\n",
       "      <th>4</th>\n",
       "      <td>1004</td>\n",
       "      <td>2018-05-23</td>\n",
       "      <td>surf</td>\n",
       "      <td>Seattle-Tacoma-Bellevue</td>\n",
       "      <td>2772.0</td>\n",
       "      <td>306.0</td>\n",
       "      <td>231.000000</td>\n",
       "      <td>25.500000</td>\n",
       "      <td>177.0</td>\n",
       "      <td>14.750000</td>\n",
       "      <td>156352.81</td>\n",
       "      <td>13029.400833</td>\n",
       "      <td>12.724024</td>\n",
       "      <td>13.0</td>\n",
       "    </tr>\n",
       "    <tr>\n",
       "      <th>5</th>\n",
       "      <td>1005</td>\n",
       "      <td>2018-11-29</td>\n",
       "      <td>surf</td>\n",
       "      <td>Dallas-Fort Worth-Arlington</td>\n",
       "      <td>496.0</td>\n",
       "      <td>50.0</td>\n",
       "      <td>41.333333</td>\n",
       "      <td>4.166667</td>\n",
       "      <td>11.0</td>\n",
       "      <td>0.916667</td>\n",
       "      <td>17140.17</td>\n",
       "      <td>1428.347500</td>\n",
       "      <td>1.394871</td>\n",
       "      <td>2.0</td>\n",
       "    </tr>\n",
       "    <tr>\n",
       "      <th>6</th>\n",
       "      <td>1006</td>\n",
       "      <td>2018-11-27</td>\n",
       "      <td>ultimate</td>\n",
       "      <td>San Francisco-Oakland-Berkeley</td>\n",
       "      <td>69.0</td>\n",
       "      <td>9.0</td>\n",
       "      <td>5.750000</td>\n",
       "      <td>0.750000</td>\n",
       "      <td>154.0</td>\n",
       "      <td>12.833333</td>\n",
       "      <td>34187.19</td>\n",
       "      <td>2848.932500</td>\n",
       "      <td>2.782161</td>\n",
       "      <td>3.0</td>\n",
       "    </tr>\n",
       "    <tr>\n",
       "      <th>7</th>\n",
       "      <td>1007</td>\n",
       "      <td>2018-07-11</td>\n",
       "      <td>surf</td>\n",
       "      <td>Grand Rapids-Kentwood</td>\n",
       "      <td>2641.0</td>\n",
       "      <td>307.0</td>\n",
       "      <td>220.083333</td>\n",
       "      <td>25.583333</td>\n",
       "      <td>255.0</td>\n",
       "      <td>21.250000</td>\n",
       "      <td>143852.74</td>\n",
       "      <td>11987.728333</td>\n",
       "      <td>11.706766</td>\n",
       "      <td>12.0</td>\n",
       "    </tr>\n",
       "    <tr>\n",
       "      <th>8</th>\n",
       "      <td>1008</td>\n",
       "      <td>2018-08-03</td>\n",
       "      <td>ultimate</td>\n",
       "      <td>Orlando-Kissimmee-Sanford</td>\n",
       "      <td>1556.0</td>\n",
       "      <td>169.0</td>\n",
       "      <td>129.666667</td>\n",
       "      <td>14.083333</td>\n",
       "      <td>84.0</td>\n",
       "      <td>7.000000</td>\n",
       "      <td>55473.04</td>\n",
       "      <td>4622.753333</td>\n",
       "      <td>4.514408</td>\n",
       "      <td>5.0</td>\n",
       "    </tr>\n",
       "    <tr>\n",
       "      <th>9</th>\n",
       "      <td>1009</td>\n",
       "      <td>2018-04-22</td>\n",
       "      <td>surf</td>\n",
       "      <td>San Jose-Sunnyvale-Santa Clara</td>\n",
       "      <td>5954.0</td>\n",
       "      <td>698.0</td>\n",
       "      <td>496.166667</td>\n",
       "      <td>58.166667</td>\n",
       "      <td>0.0</td>\n",
       "      <td>0.000000</td>\n",
       "      <td>187237.74</td>\n",
       "      <td>15603.145000</td>\n",
       "      <td>15.237446</td>\n",
       "      <td>16.0</td>\n",
       "    </tr>\n",
       "  </tbody>\n",
       "</table>\n",
       "</div>"
      ],
      "text/plain": [
       "   user_id    reg_date      plan               metropolitan_area  \\\n",
       "0     1000  2018-12-24  ultimate   Atlanta-Sandy Springs-Roswell   \n",
       "1     1001  2018-08-13      surf         Seattle-Tacoma-Bellevue   \n",
       "2     1002  2018-10-21      surf    Las Vegas-Henderson-Paradise   \n",
       "3     1003  2018-01-28      surf                           Tulsa   \n",
       "4     1004  2018-05-23      surf         Seattle-Tacoma-Bellevue   \n",
       "5     1005  2018-11-29      surf     Dallas-Fort Worth-Arlington   \n",
       "6     1006  2018-11-27  ultimate  San Francisco-Oakland-Berkeley   \n",
       "7     1007  2018-07-11      surf           Grand Rapids-Kentwood   \n",
       "8     1008  2018-08-03  ultimate       Orlando-Kissimmee-Sanford   \n",
       "9     1009  2018-04-22      surf  San Jose-Sunnyvale-Santa Clara   \n",
       "\n",
       "   duration_rounded  calls  avg_duration_rounded_month  avg_calls_month  \\\n",
       "0             124.0   16.0                   10.333333         1.333333   \n",
       "1            1728.0  202.0                  144.000000        16.833333   \n",
       "2             829.0   94.0                   69.083333         7.833333   \n",
       "3            1104.0  118.0                   92.000000         9.833333   \n",
       "4            2772.0  306.0                  231.000000        25.500000   \n",
       "5             496.0   50.0                   41.333333         4.166667   \n",
       "6              69.0    9.0                    5.750000         0.750000   \n",
       "7            2641.0  307.0                  220.083333        25.583333   \n",
       "8            1556.0  169.0                  129.666667        14.083333   \n",
       "9            5954.0  698.0                  496.166667        58.166667   \n",
       "\n",
       "   messages  avg_messages_month  total_mb_used  avg_mb_used_month  \\\n",
       "0      11.0            0.916667        1901.47         158.455833   \n",
       "1     207.0           17.250000       80437.94        6703.161667   \n",
       "2      88.0            7.333333       40293.33        3357.777500   \n",
       "3      50.0            4.166667       27044.14        2253.678333   \n",
       "4     177.0           14.750000      156352.81       13029.400833   \n",
       "5      11.0            0.916667       17140.17        1428.347500   \n",
       "6     154.0           12.833333       34187.19        2848.932500   \n",
       "7     255.0           21.250000      143852.74       11987.728333   \n",
       "8      84.0            7.000000       55473.04        4622.753333   \n",
       "9       0.0            0.000000      187237.74       15603.145000   \n",
       "\n",
       "   mb_used_rounded_gb  mb_used_rounded_gb_month  \n",
       "0            0.154742                       1.0  \n",
       "1            6.546056                       7.0  \n",
       "2            3.279080                       4.0  \n",
       "3            2.200858                       3.0  \n",
       "4           12.724024                      13.0  \n",
       "5            1.394871                       2.0  \n",
       "6            2.782161                       3.0  \n",
       "7           11.706766                      12.0  \n",
       "8            4.514408                       5.0  \n",
       "9           15.237446                      16.0  "
      ]
     },
     "execution_count": 16,
     "metadata": {},
     "output_type": "execute_result"
    }
   ],
   "source": [
    "complete_table_user.head(10)"
   ]
  },
  {
   "attachments": {},
   "cell_type": "markdown",
   "metadata": {},
   "source": [
    "#### Ganancia mensual por plan"
   ]
  },
  {
   "attachments": {},
   "cell_type": "markdown",
   "metadata": {},
   "source": [
    "En este apartado del proyecto se realizará una función que calcule la ganancia mensual por usuario de acuerdo a las nuevas columnas creadas y a las reglas del plan Surf o Ultimate, según sea el caso."
   ]
  },
  {
   "cell_type": "code",
   "execution_count": 17,
   "metadata": {},
   "outputs": [
    {
     "data": {
      "text/html": [
       "<div>\n",
       "<style scoped>\n",
       "    .dataframe tbody tr th:only-of-type {\n",
       "        vertical-align: middle;\n",
       "    }\n",
       "\n",
       "    .dataframe tbody tr th {\n",
       "        vertical-align: top;\n",
       "    }\n",
       "\n",
       "    .dataframe thead th {\n",
       "        text-align: right;\n",
       "    }\n",
       "</style>\n",
       "<table border=\"1\" class=\"dataframe\">\n",
       "  <thead>\n",
       "    <tr style=\"text-align: right;\">\n",
       "      <th></th>\n",
       "      <th>user_id</th>\n",
       "      <th>reg_date</th>\n",
       "      <th>plan</th>\n",
       "      <th>metropolitan_area</th>\n",
       "      <th>duration_rounded</th>\n",
       "      <th>calls</th>\n",
       "      <th>avg_duration_rounded_month</th>\n",
       "      <th>avg_calls_month</th>\n",
       "      <th>messages</th>\n",
       "      <th>avg_messages_month</th>\n",
       "      <th>total_mb_used</th>\n",
       "      <th>avg_mb_used_month</th>\n",
       "      <th>mb_used_rounded_gb</th>\n",
       "      <th>mb_used_rounded_gb_month</th>\n",
       "      <th>monthly_profit</th>\n",
       "    </tr>\n",
       "  </thead>\n",
       "  <tbody>\n",
       "    <tr>\n",
       "      <th>0</th>\n",
       "      <td>1000</td>\n",
       "      <td>2018-12-24</td>\n",
       "      <td>ultimate</td>\n",
       "      <td>Atlanta-Sandy Springs-Roswell</td>\n",
       "      <td>124.0</td>\n",
       "      <td>16.0</td>\n",
       "      <td>10.333333</td>\n",
       "      <td>1.333333</td>\n",
       "      <td>11.0</td>\n",
       "      <td>0.916667</td>\n",
       "      <td>1901.47</td>\n",
       "      <td>158.455833</td>\n",
       "      <td>0.154742</td>\n",
       "      <td>1.0</td>\n",
       "      <td>70.0</td>\n",
       "    </tr>\n",
       "    <tr>\n",
       "      <th>1</th>\n",
       "      <td>1001</td>\n",
       "      <td>2018-08-13</td>\n",
       "      <td>surf</td>\n",
       "      <td>Seattle-Tacoma-Bellevue</td>\n",
       "      <td>1728.0</td>\n",
       "      <td>202.0</td>\n",
       "      <td>144.000000</td>\n",
       "      <td>16.833333</td>\n",
       "      <td>207.0</td>\n",
       "      <td>17.250000</td>\n",
       "      <td>80437.94</td>\n",
       "      <td>6703.161667</td>\n",
       "      <td>6.546056</td>\n",
       "      <td>7.0</td>\n",
       "      <td>20.0</td>\n",
       "    </tr>\n",
       "    <tr>\n",
       "      <th>2</th>\n",
       "      <td>1002</td>\n",
       "      <td>2018-10-21</td>\n",
       "      <td>surf</td>\n",
       "      <td>Las Vegas-Henderson-Paradise</td>\n",
       "      <td>829.0</td>\n",
       "      <td>94.0</td>\n",
       "      <td>69.083333</td>\n",
       "      <td>7.833333</td>\n",
       "      <td>88.0</td>\n",
       "      <td>7.333333</td>\n",
       "      <td>40293.33</td>\n",
       "      <td>3357.777500</td>\n",
       "      <td>3.279080</td>\n",
       "      <td>4.0</td>\n",
       "      <td>20.0</td>\n",
       "    </tr>\n",
       "    <tr>\n",
       "      <th>3</th>\n",
       "      <td>1003</td>\n",
       "      <td>2018-01-28</td>\n",
       "      <td>surf</td>\n",
       "      <td>Tulsa</td>\n",
       "      <td>1104.0</td>\n",
       "      <td>118.0</td>\n",
       "      <td>92.000000</td>\n",
       "      <td>9.833333</td>\n",
       "      <td>50.0</td>\n",
       "      <td>4.166667</td>\n",
       "      <td>27044.14</td>\n",
       "      <td>2253.678333</td>\n",
       "      <td>2.200858</td>\n",
       "      <td>3.0</td>\n",
       "      <td>20.0</td>\n",
       "    </tr>\n",
       "    <tr>\n",
       "      <th>4</th>\n",
       "      <td>1004</td>\n",
       "      <td>2018-05-23</td>\n",
       "      <td>surf</td>\n",
       "      <td>Seattle-Tacoma-Bellevue</td>\n",
       "      <td>2772.0</td>\n",
       "      <td>306.0</td>\n",
       "      <td>231.000000</td>\n",
       "      <td>25.500000</td>\n",
       "      <td>177.0</td>\n",
       "      <td>14.750000</td>\n",
       "      <td>156352.81</td>\n",
       "      <td>13029.400833</td>\n",
       "      <td>12.724024</td>\n",
       "      <td>13.0</td>\n",
       "      <td>20.0</td>\n",
       "    </tr>\n",
       "  </tbody>\n",
       "</table>\n",
       "</div>"
      ],
      "text/plain": [
       "   user_id    reg_date      plan              metropolitan_area  \\\n",
       "0     1000  2018-12-24  ultimate  Atlanta-Sandy Springs-Roswell   \n",
       "1     1001  2018-08-13      surf        Seattle-Tacoma-Bellevue   \n",
       "2     1002  2018-10-21      surf   Las Vegas-Henderson-Paradise   \n",
       "3     1003  2018-01-28      surf                          Tulsa   \n",
       "4     1004  2018-05-23      surf        Seattle-Tacoma-Bellevue   \n",
       "\n",
       "   duration_rounded  calls  avg_duration_rounded_month  avg_calls_month  \\\n",
       "0             124.0   16.0                   10.333333         1.333333   \n",
       "1            1728.0  202.0                  144.000000        16.833333   \n",
       "2             829.0   94.0                   69.083333         7.833333   \n",
       "3            1104.0  118.0                   92.000000         9.833333   \n",
       "4            2772.0  306.0                  231.000000        25.500000   \n",
       "\n",
       "   messages  avg_messages_month  total_mb_used  avg_mb_used_month  \\\n",
       "0      11.0            0.916667        1901.47         158.455833   \n",
       "1     207.0           17.250000       80437.94        6703.161667   \n",
       "2      88.0            7.333333       40293.33        3357.777500   \n",
       "3      50.0            4.166667       27044.14        2253.678333   \n",
       "4     177.0           14.750000      156352.81       13029.400833   \n",
       "\n",
       "   mb_used_rounded_gb  mb_used_rounded_gb_month  monthly_profit  \n",
       "0            0.154742                       1.0            70.0  \n",
       "1            6.546056                       7.0            20.0  \n",
       "2            3.279080                       4.0            20.0  \n",
       "3            2.200858                       3.0            20.0  \n",
       "4           12.724024                      13.0            20.0  "
      ]
     },
     "execution_count": 17,
     "metadata": {},
     "output_type": "execute_result"
    }
   ],
   "source": [
    "plan_type = []\n",
    "for index, row in plans.iterrows():\n",
    "    info = [row.plan_name, row.usd_monthly_pay, row.minutes_included, row.usd_per_minute, row.messages_included, row.usd_per_message, row.mb_per_month_included, row.usd_per_gb]\n",
    "    plan_type.append(info)\n",
    "\n",
    "def month_earnings(plan, minutes, texts, mb):\n",
    "    if plan == 'surf':\n",
    "        plan_data = plan_type[0]\n",
    "    else:\n",
    "        plan_data = plan_type[1]\n",
    "    \n",
    "    total = 0\n",
    "    \n",
    "    base = plan_data[1]\n",
    "    total += base\n",
    "    \n",
    "    minutes_difference = minutes - plan_data[2]\n",
    "    if minutes_difference > 0:\n",
    "        minutes_difference = math.ceil(minutes_difference)\n",
    "        total += minutes_difference*plan_data[3]\n",
    "\n",
    "    messages_difference = texts - plan_data[4]\n",
    "    if messages_difference > 0:\n",
    "        messages_difference = math.ceil(messages_difference)\n",
    "        total+= messages_difference*plan_data[5]\n",
    "    \n",
    "    gigabytes_difference  = mb - plan_data[6]\n",
    "    if gigabytes_difference  > 0:\n",
    "        excess_gb = math.ceil(gigabytes_difference/1024)\n",
    "        total+= excess_gb*plan_data[7]\n",
    "        \n",
    "    return total\n",
    "    \n",
    "complete_table_user['monthly_profit'] = complete_table_user.apply(lambda x: month_earnings(x['plan'], x['avg_duration_rounded_month'], x['avg_messages_month'], x['avg_mb_used_month']), axis=1)\n",
    "\n",
    "complete_table_user.head(5)"
   ]
  },
  {
   "attachments": {},
   "cell_type": "markdown",
   "metadata": {},
   "source": [
    "Como se observa en la tabla inmediata superior la función funcionó de manera correcta y creo la nueva columna de ganancias.\n",
    "\n",
    "Como siguiente paso será, por cada tipo de tarifa, calcular la media, la varianza y la desviación estándar del número de llamadas, SMS y datos. Así mismo, se trazarán histogramas y se describirán las distribuciones."
   ]
  },
  {
   "cell_type": "code",
   "execution_count": 18,
   "metadata": {},
   "outputs": [],
   "source": [
    "surf_user_table = complete_table_user.query('plan == \"surf\"')\n",
    "ultimate_user_table = complete_table_user.query('plan == \"ultimate\"')"
   ]
  },
  {
   "attachments": {},
   "cell_type": "markdown",
   "metadata": {},
   "source": [
    "Para obtener la media, la varianza y la desviación estándar es necesario trabajar con la columna correspondiente a los minutos , mensajes y megabytes mensuales utilizados pertenecientes a la tabla de usuarios **surf**."
   ]
  },
  {
   "cell_type": "code",
   "execution_count": 19,
   "metadata": {},
   "outputs": [],
   "source": [
    "surf_minutes_month = surf_user_table['avg_duration_rounded_month']\n",
    "surf_messages_month = surf_user_table['avg_messages_month']\n",
    "surf_gigabytes_month = surf_user_table['mb_used_rounded_gb_month']"
   ]
  },
  {
   "attachments": {},
   "cell_type": "markdown",
   "metadata": {},
   "source": [
    "Y también es necesario obtener las tablas pertenecientes a los usuarios **ultimate**."
   ]
  },
  {
   "cell_type": "code",
   "execution_count": 20,
   "metadata": {},
   "outputs": [],
   "source": [
    "ultimate_minutes_month = ultimate_user_table['avg_duration_rounded_month']\n",
    "ultimate_messages_month = ultimate_user_table['avg_messages_month']\n",
    "ultimate_gigabytes_month = ultimate_user_table['mb_used_rounded_gb_month']"
   ]
  },
  {
   "attachments": {},
   "cell_type": "markdown",
   "metadata": {},
   "source": [
    "##### Comparación del consumo de minutos mensuales según plan celular"
   ]
  },
  {
   "cell_type": "code",
   "execution_count": 21,
   "metadata": {},
   "outputs": [
    {
     "name": "stdout",
     "output_type": "stream",
     "text": [
      "Los datos estadísticos del consumo de minutos de los usuarios del plan surf son:\n",
      "La media es de: 165.78736479842675\n",
      "La varianza es de: 20614.84664549753\n",
      "La desviación estándar es de: 143.578712368852\n"
     ]
    },
    {
     "data": {
      "text/plain": [
       "<AxesSubplot:>"
      ]
     },
     "execution_count": 21,
     "metadata": {},
     "output_type": "execute_result"
    },
    {
     "data": {
      "image/png": "[encoded data removed]",
      "text/plain": [
       "<Figure size 640x480 with 1 Axes>"
      ]
     },
     "metadata": {},
     "output_type": "display_data"
    }
   ],
   "source": [
    "variance_surf_minutes_month = np.var(surf_minutes_month)\n",
    "\n",
    "print('Los datos estadísticos del consumo de minutos de los usuarios del plan surf son:')\n",
    "print('La media es de:',surf_minutes_month.mean())\n",
    "print('La varianza es de:',variance_surf_minutes_month)\n",
    "print('La desviación estándar es de:',np.sqrt(variance_surf_minutes_month))\n",
    "\n",
    "surf_minutes_month.hist()\n"
   ]
  },
  {
   "cell_type": "code",
   "execution_count": 22,
   "metadata": {},
   "outputs": [
    {
     "name": "stdout",
     "output_type": "stream",
     "text": [
      "Los datos estadísticos del consumo de minutos de los usuarios del plan ultimate son:\n",
      "La media es de: 160.416149068323\n",
      "La varianza es de: 20097.202510084062\n",
      "La desviación estándar es de: 141.76460245803273\n"
     ]
    },
    {
     "data": {
      "text/plain": [
       "<AxesSubplot:>"
      ]
     },
     "execution_count": 22,
     "metadata": {},
     "output_type": "execute_result"
    },
    {
     "data": {
      "image/png": "[encoded data removed]",
      "text/plain": [
       "<Figure size 640x480 with 1 Axes>"
      ]
     },
     "metadata": {},
     "output_type": "display_data"
    }
   ],
   "source": [
    "variance_ultimate_minutes_month = np.var(ultimate_minutes_month)\n",
    "\n",
    "print('Los datos estadísticos del consumo de minutos de los usuarios del plan ultimate son:')\n",
    "print('La media es de:',ultimate_minutes_month.mean())\n",
    "print('La varianza es de:',variance_ultimate_minutes_month)\n",
    "print('La desviación estándar es de:',np.sqrt(variance_ultimate_minutes_month))\n",
    "\n",
    "ultimate_minutes_month.hist()"
   ]
  },
  {
   "cell_type": "code",
   "execution_count": 23,
   "metadata": {},
   "outputs": [
    {
     "data": {
      "image/png": "[encoded data removed]",
      "text/plain": [
       "<Figure size 640x480 with 1 Axes>"
      ]
     },
     "metadata": {},
     "output_type": "display_data"
    }
   ],
   "source": [
    "plt.hist(surf_minutes_month, alpha= 0.5, label='Minutos surf')\n",
    "plt.hist(ultimate_minutes_month, alpha= 0.5, label='Minutos ultimate')\n",
    "plt.legend(loc='upper right')\n",
    "plt.show()\n"
   ]
  },
  {
   "attachments": {},
   "cell_type": "markdown",
   "metadata": {},
   "source": [
    "Conclusiones sobre el consumo de minutos de ambos planes:\n",
    "- Ambos histogramas son muy similares entre sí, al igual que su media, su varianza y su desviación estándar.\n",
    "- En en plan **surf** se incluyen 500 minutos al mes, la media de consumo es de 157 minutos.\n",
    "- En el plan **ultimate** se incluyen 3,000 minutos al mes, la media de consumo es de 160 minutos. \n",
    "- En ambos planes, el consumo de minutos se encuentra por debajo de los minutos incluidos en cada paquete.  "
   ]
  },
  {
   "attachments": {},
   "cell_type": "markdown",
   "metadata": {},
   "source": [
    "##### Comparación del consumo de mensajes SMS mensuales según plan celular"
   ]
  },
  {
   "cell_type": "code",
   "execution_count": 24,
   "metadata": {},
   "outputs": [
    {
     "name": "stdout",
     "output_type": "stream",
     "text": [
      "Los datos estadísticos del consumo de mensajes de los usuarios del plan surf son:\n",
      "La media es de: 12.048672566371682\n",
      "La varianza es de: 230.84858148931298\n",
      "La desviación estándar es de: 15.193702033714922\n"
     ]
    },
    {
     "data": {
      "text/plain": [
       "<AxesSubplot:>"
      ]
     },
     "execution_count": 24,
     "metadata": {},
     "output_type": "execute_result"
    },
    {
     "data": {
      "image/png": "[encoded data removed]",
      "text/plain": [
       "<Figure size 640x480 with 1 Axes>"
      ]
     },
     "metadata": {},
     "output_type": "display_data"
    }
   ],
   "source": [
    "variance_surf_messages_month = np.var(surf_messages_month)\n",
    "\n",
    "print('Los datos estadísticos del consumo de mensajes de los usuarios del plan surf son:')\n",
    "print('La media es de:',surf_messages_month.mean())\n",
    "print('La varianza es de:',variance_surf_messages_month)\n",
    "print('La desviación estándar es de:',np.sqrt(variance_surf_messages_month))\n",
    "\n",
    "surf_messages_month.hist()"
   ]
  },
  {
   "cell_type": "code",
   "execution_count": 25,
   "metadata": {},
   "outputs": [
    {
     "name": "stdout",
     "output_type": "stream",
     "text": [
      "Los datos estadísticos del consumo de mensajes de los usuarios del plan ultimate son:\n",
      "La media es de: 13.994306418219463\n",
      "La varianza es de: 271.99060767974487\n",
      "La desviación estándar es de: 16.492137753479533\n"
     ]
    },
    {
     "data": {
      "text/plain": [
       "<AxesSubplot:>"
      ]
     },
     "execution_count": 25,
     "metadata": {},
     "output_type": "execute_result"
    },
    {
     "data": {
      "image/png": "[encoded data removed]",
      "text/plain": [
       "<Figure size 640x480 with 1 Axes>"
      ]
     },
     "metadata": {},
     "output_type": "display_data"
    }
   ],
   "source": [
    "variance_ultimate_messages_month = np.var(ultimate_messages_month)\n",
    "\n",
    "print('Los datos estadísticos del consumo de mensajes de los usuarios del plan ultimate son:')\n",
    "print('La media es de:',ultimate_messages_month.mean())\n",
    "print('La varianza es de:',variance_ultimate_messages_month)\n",
    "print('La desviación estándar es de:',np.sqrt(variance_ultimate_messages_month))\n",
    "\n",
    "ultimate_messages_month.hist()"
   ]
  },
  {
   "cell_type": "code",
   "execution_count": 26,
   "metadata": {},
   "outputs": [
    {
     "data": {
      "image/png": "[encoded data removed]",
      "text/plain": [
       "<Figure size 640x480 with 1 Axes>"
      ]
     },
     "metadata": {},
     "output_type": "display_data"
    }
   ],
   "source": [
    "plt.hist(surf_messages_month, alpha= 0.5, label='Mensajes surf')\n",
    "plt.hist(ultimate_messages_month, alpha= 0.5, label='Mensajes ultimate')\n",
    "plt.legend(loc='upper right')\n",
    "plt.show()"
   ]
  },
  {
   "attachments": {},
   "cell_type": "markdown",
   "metadata": {},
   "source": [
    "Conclusiones sobre el consumo de mensajes de ambos planes:\n",
    "- Ambos histogramas son muy similares entre sí, al igual que su media, su varianza y su desviación estándar.\n",
    "- En en plan **surf** se incluyen 50 mensajes al mes, la media de consumo es de 12 mensajes.\n",
    "- En el plan **ultimate** se incluyen 1,000 mensajes al mes, la media de consumo es de 13 mensajes. \n",
    "- En ambos planes, el consumo de mensajes se encuentra por debajo de los mensajes incluidos en cada paquete.  "
   ]
  },
  {
   "attachments": {},
   "cell_type": "markdown",
   "metadata": {},
   "source": [
    "##### Comparación del consumo de megabytes mensuales según plan celular"
   ]
  },
  {
   "cell_type": "code",
   "execution_count": 27,
   "metadata": {},
   "outputs": [
    {
     "name": "stdout",
     "output_type": "stream",
     "text": [
      "Los datos estadísticos del consumo de gigabytes de los usuarios del plan surf son:\n",
      "La media es de: 6.722713864306785\n",
      "La varianza es de: 23.911312988922823\n",
      "La desviación estándar es de: 4.889919527857573\n"
     ]
    },
    {
     "data": {
      "text/plain": [
       "<AxesSubplot:>"
      ]
     },
     "execution_count": 27,
     "metadata": {},
     "output_type": "execute_result"
    },
    {
     "data": {
      "image/png": "[encoded data removed]",
      "text/plain": [
       "<Figure size 640x480 with 1 Axes>"
      ]
     },
     "metadata": {},
     "output_type": "display_data"
    }
   ],
   "source": [
    "variance_surf_gigabytes_month = np.var(surf_gigabytes_month)\n",
    "\n",
    "print('Los datos estadísticos del consumo de gigabytes de los usuarios del plan surf son:')\n",
    "print('La media es de:',surf_gigabytes_month.mean())\n",
    "print('La varianza es de:',variance_surf_gigabytes_month)\n",
    "print('La desviación estándar es de:',np.sqrt(variance_surf_gigabytes_month))\n",
    "\n",
    "surf_gigabytes_month.hist()"
   ]
  },
  {
   "cell_type": "code",
   "execution_count": 28,
   "metadata": {},
   "outputs": [
    {
     "data": {
      "text/plain": [
       "count    161.000000\n",
       "mean       6.714286\n",
       "std        5.453701\n",
       "min        0.000000\n",
       "25%        3.000000\n",
       "50%        5.000000\n",
       "75%        9.000000\n",
       "max       32.000000\n",
       "Name: mb_used_rounded_gb_month, dtype: float64"
      ]
     },
     "execution_count": 28,
     "metadata": {},
     "output_type": "execute_result"
    }
   ],
   "source": [
    "ultimate_gigabytes_month.describe()"
   ]
  },
  {
   "cell_type": "code",
   "execution_count": 29,
   "metadata": {},
   "outputs": [
    {
     "name": "stdout",
     "output_type": "stream",
     "text": [
      "Los datos estadísticos del consumo de gigabytes de los usuarios del plan ultimate son:\n",
      "La media es de: 6.714285714285714\n",
      "La varianza es de: 29.55811889973381\n",
      "La desviación estándar es de: 5.436737891395336\n"
     ]
    },
    {
     "data": {
      "text/plain": [
       "<AxesSubplot:>"
      ]
     },
     "execution_count": 29,
     "metadata": {},
     "output_type": "execute_result"
    },
    {
     "data": {
      "image/png": "[encoded data removed]",
      "text/plain": [
       "<Figure size 640x480 with 1 Axes>"
      ]
     },
     "metadata": {},
     "output_type": "display_data"
    }
   ],
   "source": [
    "variance_ultimate_gigabytes_month = np.var(ultimate_gigabytes_month)\n",
    "\n",
    "print('Los datos estadísticos del consumo de gigabytes de los usuarios del plan ultimate son:')\n",
    "print('La media es de:',ultimate_gigabytes_month.mean())\n",
    "print('La varianza es de:',variance_ultimate_gigabytes_month)\n",
    "print('La desviación estándar es de:',np.sqrt(variance_ultimate_gigabytes_month))\n",
    "\n",
    "ultimate_gigabytes_month.hist()"
   ]
  },
  {
   "cell_type": "code",
   "execution_count": 30,
   "metadata": {},
   "outputs": [
    {
     "data": {
      "image/png": "[encoded data removed]",
      "text/plain": [
       "<Figure size 640x480 with 1 Axes>"
      ]
     },
     "metadata": {},
     "output_type": "display_data"
    }
   ],
   "source": [
    "plt.hist(surf_gigabytes_month, alpha= 0.5, label='Mensajes surf')\n",
    "plt.hist(ultimate_gigabytes_month, alpha= 0.5, label='Mensajes ultimate')\n",
    "plt.legend(loc='upper right')\n",
    "plt.show()"
   ]
  },
  {
   "attachments": {},
   "cell_type": "markdown",
   "metadata": {},
   "source": [
    "### Conclusiones sobre el consumo de gigabytes en ambos planes:\n",
    "\n",
    "- Se observó que los histogramas correspondientes al consumo de gigabytes en los planes Surf y Ultimate son muy similares entre sí.\n",
    "- Tanto en el plan Surf como en el plan Ultimate, se incluyen 15 gigabytes y 30 gigabytes al mes respectivamente.\n",
    "- La media de consumo de gigabytes en ambos planes es de 6.7 gigabytes.\n",
    "- En ambos planes, se encontró que el consumo de gigabytes se mantiene por debajo de los gigabytes incluidos en cada paquete."
   ]
  },
  {
   "attachments": {},
   "cell_type": "markdown",
   "metadata": {},
   "source": [
    "---"
   ]
  },
  {
   "attachments": {},
   "cell_type": "markdown",
   "metadata": {},
   "source": [
    "### **Prueba de hipótesis 1**"
   ]
  },
  {
   "attachments": {},
   "cell_type": "markdown",
   "metadata": {},
   "source": [
    "En la primera prueba de hipótesis se propone como hipótesis nula la siguiente \"el ingreso promedio de los usuarios de las tarifas Ultimate y Surf difiere\", la hipótesis alternativa es \"El ingreso promedio de los usuarios de las tarifas Ultimate y Surf es similar\"."
   ]
  },
  {
   "cell_type": "code",
   "execution_count": 31,
   "metadata": {},
   "outputs": [
    {
     "name": "stdout",
     "output_type": "stream",
     "text": [
      "p-value: 1.578484055148577e-215\n",
      "Rechazamos la hipótesis nula\n"
     ]
    }
   ],
   "source": [
    "surf_monthly_profit = surf_user_table['monthly_profit']\n",
    "ultimate_monthly_profit = ultimate_user_table['monthly_profit']\n",
    "\n",
    "alpha = 0.05\n",
    "\n",
    "result_test = st.ttest_ind(surf_monthly_profit, ultimate_monthly_profit)\n",
    "print('p-value:', result_test.pvalue)\n",
    "\n",
    "if result_test.pvalue < alpha:\n",
    "    print('Rechazamos la hipótesis nula')\n",
    "else:\n",
    "    print('No rechazamos la hipótesis nula')\n"
   ]
  },
  {
   "attachments": {},
   "cell_type": "markdown",
   "metadata": {},
   "source": [
    "### **Conclusiones de la prueba de hipótesis 1**\n",
    "\n",
    "En la primera prueba de hipótesis, se plantea la siguiente hipótesis nula: \"El ingreso promedio de los usuarios de las tarifas Ultimate y Surf difiere\". La hipótesis alternativa es: \"El ingreso promedio de los usuarios de las tarifas Ultimate y Surf es similar\".\n",
    "\n",
    "El resultado del análisis estadístico arrojó un p-value de 1.578484055148577e-215. Con base en este valor, se rechaza la hipótesis nula. Esto indica que existe evidencia estadísticamente significativa para concluir que el ingreso promedio de los usuarios de las tarifas Surf y Ultimate es similar.\n"
   ]
  },
  {
   "attachments": {},
   "cell_type": "markdown",
   "metadata": {},
   "source": [
    "---"
   ]
  },
  {
   "attachments": {},
   "cell_type": "markdown",
   "metadata": {},
   "source": [
    "### **Prueba de hipótesis 2**"
   ]
  },
  {
   "attachments": {},
   "cell_type": "markdown",
   "metadata": {},
   "source": [
    "En la segunda prueba de hipótesis se propone como hipótesis nula que \"el ingreso promedio de los usuarios en el área de estados Nueva York-Nueva Jersey es diferente al de los usuarios de otras regiones\" por lo que la hipótesis alternativa es que \"el ingreso promedio de los usuarios en el área de estados Nueva York-Nueva Jersey es similar al de los usuarios de otras regiones\"."
   ]
  },
  {
   "cell_type": "code",
   "execution_count": 32,
   "metadata": {},
   "outputs": [
    {
     "name": "stdout",
     "output_type": "stream",
     "text": [
      "p-value: 0.13750813653908409\n",
      "No rechazamos la hipótesis nula\n"
     ]
    }
   ],
   "source": [
    "# Se creará la tabla correspondiente a New York-Newark-Jersey City y la tabla con el resto de las áreas metropolitanas\n",
    "\n",
    "ny_nj = complete_table_user.query('metropolitan_area == \"New York-Newark-Jersey City\"')\n",
    "not_ny_nj = complete_table_user.query('metropolitan_area != \"New York-Newark-Jersey City\"')\n",
    "\n",
    "\n",
    "ny_nj_profit = ny_nj['monthly_profit']\n",
    "not_ny_nj_profit = not_ny_nj['monthly_profit']\n",
    "\n",
    "alpha = 0.05\n",
    "\n",
    "result_test = st.ttest_ind(ny_nj_profit, not_ny_nj_profit)\n",
    "print('p-value:', result_test.pvalue)\n",
    "\n",
    "if result_test.pvalue < alpha:\n",
    "    print('Rechazamos la hipótesis nula')\n",
    "else:\n",
    "    print('No rechazamos la hipótesis nula')"
   ]
  },
  {
   "attachments": {},
   "cell_type": "markdown",
   "metadata": {},
   "source": [
    "### **Prueba de hipótesis 2**\n",
    "\n",
    "En la segunda prueba de hipótesis, se plantea la siguiente hipótesis nula: \"El ingreso promedio de los usuarios en el área de estados Nueva York-Nueva Jersey es diferente al de los usuarios de otras regiones\". La hipótesis alternativa es: \"El ingreso promedio de los usuarios en el área de estados Nueva York-Nueva Jersey es similar al de los usuarios de otras regiones\".\n",
    "\n",
    "El resultado de la segunda prueba de hipótesis indica que no se rechaza la hipótesis nula. Esto significa que no se encontró evidencia estadísticamente significativa para concluir que el ingreso promedio del área metropolitana de New York-Newark-Jersey City difiere del ingreso promedio de otras regiones de Estados Unidos.\n"
   ]
  },
  {
   "attachments": {},
   "cell_type": "markdown",
   "metadata": {},
   "source": [
    "---\n"
   ]
  },
  {
   "attachments": {},
   "cell_type": "markdown",
   "metadata": {},
   "source": [
    "### **Conclusiones**"
   ]
  },
  {
   "attachments": {},
   "cell_type": "markdown",
   "metadata": {},
   "source": [
    "### Resultados del Proyecto\n",
    "\n",
    "El objetivo general de este proyecto fue apoyar al departamento comercial de Megaline en determinar qué plan genera más ingresos, para ajustar el presupuesto de publicidad. Se establecieron tres objetivos específicos y se trabajó con cinco conjuntos de datos correspondientes a una muestra de 500 clientes de Megaline del año 2018. Estos conjuntos de datos contenían información sobre usuarios, llamadas, mensajes SMS, sesiones web y detalles de las tarifas de los paquetes Surf y Ultimate.\n",
    "\n",
    "#### Objetivos y Resultados\n",
    "\n",
    "1. Descripción del comportamiento de los clientes: Se utilizó medidas estadísticas para describir el consumo mensual de minutos, mensajes SMS y volumen de datos de los clientes de cada tarifa. Se calculó la media, la varianza y la desviación estándar para cada uno de estos aspectos. Se observó que los histogramas y las medidas estadísticas eran muy similares para ambos planes, Surf y Ultimate.\n",
    "\n",
    "2. Prueba de hipótesis sobre la diferencia en el ingreso promedio: Se planteó la hipótesis de que el ingreso promedio de los usuarios de las tarifas Ultimate y Surf difiere. Después de realizar pruebas estadísticas, se concluyó que no hay suficiente evidencia para rechazar la hipótesis nula. Esto indica que no se encontró una diferencia significativa en el ingreso promedio entre los usuarios de ambas tarifas.\n",
    "\n",
    "3. Prueba de hipótesis sobre el ingreso promedio en el área de New York-Newark-Jersey City: Se planteó la hipótesis de que el ingreso promedio de los usuarios en el área de estados Nueva York-Nueva Jersey es diferente al de los usuarios de otras regiones. Después de realizar pruebas estadísticas, se concluyó que no hay suficiente evidencia para rechazar la hipótesis nula. Esto indica que no se encontró una diferencia significativa en el ingreso promedio entre los usuarios del área mencionada y los usuarios de otras regiones.\n",
    "\n",
    "#### Conclusiones\n",
    "\n",
    "En resumen, en este proyecto se analizó el comportamiento de los clientes de Megaline en relación al consumo de minutos, mensajes SMS y volumen de datos. Aunque se observaron similitudes en los histogramas y medidas estadísticas para ambos planes, no se encontraron diferencias significativas en el ingreso promedio entre los usuarios de las tarifas Ultimate y Surf. Tampoco se encontraron diferencias significativas en el ingreso promedio entre los usuarios del área de New York-Newark-Jersey City y los usuarios de otras regiones.\n",
    "\n",
    "Estos resultados pueden ayudar al departamento comercial de Megaline a tomar decisiones informadas sobre la asignación de presupuesto de publicidad y a comprender mejor el comportamiento de sus clientes en relación a los planes de prepago ofrecidos.\n"
   ]
  }
 ],
 "metadata": {
  "kernelspec": {
   "display_name": "Python 3",
   "language": "python",
   "name": "python3"
  },
  "language_info": {
   "codemirror_mode": {
    "name": "ipython",
    "version": 3
   },
   "file_extension": ".py",
   "mimetype": "text/x-python",
   "name": "python",
   "nbconvert_exporter": "python",
   "pygments_lexer": "ipython3",
   "version": "3.10.10"
  },
  "orig_nbformat": 4,
  "vscode": {
   "interpreter": {
    "hash": "410621c85258efa0ea47ad915638abc1a4a3304f33944a818dfb0fc7cd918640"
   }
  }
 },
 "nbformat": 4,
 "nbformat_minor": 2
}
